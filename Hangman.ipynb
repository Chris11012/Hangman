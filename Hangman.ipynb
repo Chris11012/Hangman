{
 "cells": [
  {
   "cell_type": "code",
   "execution_count": null,
   "id": "b7a93afe",
   "metadata": {},
   "outputs": [
    {
     "name": "stdout",
     "output_type": "stream",
     "text": [
      "Welcome to Hangman!\n",
      "The word has 4 letters.\n",
      "You can make up to 6 incorrect guesses.\n",
      "_ _ _ _ \n"
     ]
    }
   ],
   "source": [
    "import random\n",
    "\n",
    "# List of words to choose from\n",
    "words = [\"apple\", \"banana\", \"cherry\", \"orange\", \"kiwi\", \"pear\", \"grape\", \"watermelon\", \"pineapple\", \"mango\"]\n",
    "\n",
    "# Set the number of allowed incorrect guesses\n",
    "max_guesses = 6\n",
    "\n",
    "# Define a function to play the game\n",
    "def play_game():\n",
    "    # Choose a random word from the list\n",
    "    word = random.choice(words)\n",
    "\n",
    "    # Create a list to store the correct guesses\n",
    "    correct_guesses = []\n",
    "\n",
    "    # Create a list to store the incorrect guesses\n",
    "    incorrect_guesses = []\n",
    "\n",
    "    # Print the instructions\n",
    "    print(\"The word has\", len(word), \"letters.\")\n",
    "    print(\"You can make up to\", max_guesses, \"incorrect guesses.\")\n",
    "\n",
    "    # Loop until the player wins or loses\n",
    "    while True:\n",
    "        # Print the current state of the word\n",
    "        for letter in word:\n",
    "            if letter in correct_guesses:\n",
    "                print(letter, end=\" \")\n",
    "            else:\n",
    "                print(\"_\", end=\" \")\n",
    "        print()\n",
    "\n",
    "        # Ask the player to guess a letter\n",
    "        while True:\n",
    "            guess = input(\"Guess a letter: \").lower()\n",
    "            if len(guess) != 1:\n",
    "                print(\"Error: Please enter a single letter.\")\n",
    "            elif guess in correct_guesses or guess in incorrect_guesses:\n",
    "                print(\"Error: You have already guessed that letter.\")\n",
    "            else:\n",
    "                break\n",
    "\n",
    "        # Check if the guess is correct\n",
    "        if guess in word:\n",
    "            correct_guesses.append(guess)\n",
    "            print(\"Correct!\")\n",
    "        else:\n",
    "            incorrect_guesses.append(guess)\n",
    "            print(\"Incorrect!\")\n",
    "\n",
    "        # Check if the player has won\n",
    "        if set(correct_guesses) == set(word):\n",
    "            print(\"Congratulations, you won!\")\n",
    "            break\n",
    "\n",
    "        # Check if the player has lost\n",
    "        if len(incorrect_guesses) >= max_guesses:\n",
    "            print(\"Sorry, you lost. The word was\", word)\n",
    "            break\n",
    "\n",
    "    # Ask the player if they want to play again\n",
    "    while True:\n",
    "        play_again = input(\"Do you want to play again? (y/n): \").lower()\n",
    "        if play_again == \"y\":\n",
    "            play_game()\n",
    "            break\n",
    "        elif play_again == \"n\":\n",
    "            print(\"Thanks for playing!\")\n",
    "            break\n",
    "        else:\n",
    "            print(\"Error: Please enter 'y' or 'n'.\")\n",
    "\n",
    "# Print the welcome message\n",
    "print(\"Welcome to Hangman!\")\n",
    "play_game()"
   ]
  },
  {
   "cell_type": "code",
   "execution_count": null,
   "id": "1e2ea3bc",
   "metadata": {},
   "outputs": [],
   "source": []
  }
 ],
 "metadata": {
  "kernelspec": {
   "display_name": "Python 3 (ipykernel)",
   "language": "python",
   "name": "python3"
  },
  "language_info": {
   "codemirror_mode": {
    "name": "ipython",
    "version": 3
   },
   "file_extension": ".py",
   "mimetype": "text/x-python",
   "name": "python",
   "nbconvert_exporter": "python",
   "pygments_lexer": "ipython3",
   "version": "3.10.9"
  }
 },
 "nbformat": 4,
 "nbformat_minor": 5
}
